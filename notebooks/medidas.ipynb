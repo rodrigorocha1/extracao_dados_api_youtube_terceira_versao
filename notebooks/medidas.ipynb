{
 "cells": [
  {
   "cell_type": "code",
   "execution_count": 10,
   "metadata": {},
   "outputs": [
    {
     "data": {
      "text/plain": [
       "True"
      ]
     },
     "execution_count": 10,
     "metadata": {},
     "output_type": "execute_result"
    }
   ],
   "source": [
    "from pyhive import hive\n",
    "import pandas as pd\n",
    "import os\n",
    "from dotenv import load_dotenv\n",
    "load_dotenv()"
   ]
  },
  {
   "cell_type": "code",
   "execution_count": 11,
   "metadata": {},
   "outputs": [],
   "source": [
    "\n",
    "host = os.environ['HOST_HIVE']\n",
    "port = os.environ['PORT_HIVE']\n",
    "database = os.environ['DATABASE_HIVE']"
   ]
  },
  {
   "cell_type": "code",
   "execution_count": 12,
   "metadata": {},
   "outputs": [],
   "source": [
    "conn = hive.Connection(\n",
    "    host=host, \n",
    "    port=port,\n",
    "    database=database\n",
    ")"
   ]
  },
  {
   "cell_type": "markdown",
   "metadata": {},
   "source": [
    "# Média engajamento canal"
   ]
  },
  {
   "cell_type": "code",
   "execution_count": 15,
   "metadata": {},
   "outputs": [],
   "source": [
    "sql_canal = \"\"\"\n",
    "    SELECT id_canal, total_likes, total_comentarios, total_visualizacoes\n",
    "    FROM estatisticas_videos\n",
    "    where assunto = 'cities skylines'\n",
    "\"\"\""
   ]
  },
  {
   "cell_type": "code",
   "execution_count": 16,
   "metadata": {},
   "outputs": [],
   "source": [
    "cursor = conn.cursor()\n",
    "cursor.execute(sql_canal)"
   ]
  },
  {
   "cell_type": "code",
   "execution_count": null,
   "metadata": {},
   "outputs": [
    {
     "data": {
      "text/html": [
       "<div>\n",
       "<style scoped>\n",
       "    .dataframe tbody tr th:only-of-type {\n",
       "        vertical-align: middle;\n",
       "    }\n",
       "\n",
       "    .dataframe tbody tr th {\n",
       "        vertical-align: top;\n",
       "    }\n",
       "\n",
       "    .dataframe thead th {\n",
       "        text-align: right;\n",
       "    }\n",
       "</style>\n",
       "<table border=\"1\" class=\"dataframe\">\n",
       "  <thead>\n",
       "    <tr style=\"text-align: right;\">\n",
       "      <th></th>\n",
       "      <th>id_canal</th>\n",
       "      <th>total_likes</th>\n",
       "      <th>total_comentarios</th>\n",
       "      <th>total_visualizacoes</th>\n",
       "    </tr>\n",
       "  </thead>\n",
       "  <tbody>\n",
       "    <tr>\n",
       "      <th>0</th>\n",
       "      <td>UCzD4SJ-slWZReQYSNKmiixQ</td>\n",
       "      <td>18.0</td>\n",
       "      <td>2.0</td>\n",
       "      <td>44</td>\n",
       "    </tr>\n",
       "    <tr>\n",
       "      <th>1</th>\n",
       "      <td>UCCe4Be21OPPltTTIHP4lDvg</td>\n",
       "      <td>57.0</td>\n",
       "      <td>3.0</td>\n",
       "      <td>263</td>\n",
       "    </tr>\n",
       "    <tr>\n",
       "      <th>2</th>\n",
       "      <td>UCccdWOiGy2vEQKjUhNZHB_g</td>\n",
       "      <td>1.0</td>\n",
       "      <td>1.0</td>\n",
       "      <td>3</td>\n",
       "    </tr>\n",
       "    <tr>\n",
       "      <th>3</th>\n",
       "      <td>UCrOH1V-FyMunBIMrKL0y0xQ</td>\n",
       "      <td>1444.0</td>\n",
       "      <td>55.0</td>\n",
       "      <td>7743</td>\n",
       "    </tr>\n",
       "    <tr>\n",
       "      <th>4</th>\n",
       "      <td>UCzD4SJ-slWZReQYSNKmiixQ</td>\n",
       "      <td>18.0</td>\n",
       "      <td>1.0</td>\n",
       "      <td>63</td>\n",
       "    </tr>\n",
       "    <tr>\n",
       "      <th>...</th>\n",
       "      <td>...</td>\n",
       "      <td>...</td>\n",
       "      <td>...</td>\n",
       "      <td>...</td>\n",
       "    </tr>\n",
       "    <tr>\n",
       "      <th>351</th>\n",
       "      <td>UCccdWOiGy2vEQKjUhNZHB_g</td>\n",
       "      <td>10.0</td>\n",
       "      <td>9.0</td>\n",
       "      <td>62</td>\n",
       "    </tr>\n",
       "    <tr>\n",
       "      <th>352</th>\n",
       "      <td>UC5s_XZuLSRZ368vtEhwJ4lA</td>\n",
       "      <td>0.0</td>\n",
       "      <td>0.0</td>\n",
       "      <td>1</td>\n",
       "    </tr>\n",
       "    <tr>\n",
       "      <th>353</th>\n",
       "      <td>UCFTnSebgXjuKJGyEsq9KMLQ</td>\n",
       "      <td>9.0</td>\n",
       "      <td>1.0</td>\n",
       "      <td>106</td>\n",
       "    </tr>\n",
       "    <tr>\n",
       "      <th>354</th>\n",
       "      <td>UCxZC9f_Tlgu0oujtxR37OkA</td>\n",
       "      <td>9.0</td>\n",
       "      <td>1.0</td>\n",
       "      <td>42</td>\n",
       "    </tr>\n",
       "    <tr>\n",
       "      <th>355</th>\n",
       "      <td>UCJtyB9uMC-P1XCEKFz8FNVA</td>\n",
       "      <td>21.0</td>\n",
       "      <td>0.0</td>\n",
       "      <td>94</td>\n",
       "    </tr>\n",
       "  </tbody>\n",
       "</table>\n",
       "<p>356 rows × 4 columns</p>\n",
       "</div>"
      ],
      "text/plain": [
       "                     id_canal  total_likes  total_comentarios  \\\n",
       "0    UCzD4SJ-slWZReQYSNKmiixQ         18.0                2.0   \n",
       "1    UCCe4Be21OPPltTTIHP4lDvg         57.0                3.0   \n",
       "2    UCccdWOiGy2vEQKjUhNZHB_g          1.0                1.0   \n",
       "3    UCrOH1V-FyMunBIMrKL0y0xQ       1444.0               55.0   \n",
       "4    UCzD4SJ-slWZReQYSNKmiixQ         18.0                1.0   \n",
       "..                        ...          ...                ...   \n",
       "351  UCccdWOiGy2vEQKjUhNZHB_g         10.0                9.0   \n",
       "352  UC5s_XZuLSRZ368vtEhwJ4lA          0.0                0.0   \n",
       "353  UCFTnSebgXjuKJGyEsq9KMLQ          9.0                1.0   \n",
       "354  UCxZC9f_Tlgu0oujtxR37OkA          9.0                1.0   \n",
       "355  UCJtyB9uMC-P1XCEKFz8FNVA         21.0                0.0   \n",
       "\n",
       "     total_visualizacoes  \n",
       "0                     44  \n",
       "1                    263  \n",
       "2                      3  \n",
       "3                   7743  \n",
       "4                     63  \n",
       "..                   ...  \n",
       "351                   62  \n",
       "352                    1  \n",
       "353                  106  \n",
       "354                   42  \n",
       "355                   94  \n",
       "\n",
       "[356 rows x 4 columns]"
      ]
     },
     "execution_count": 17,
     "metadata": {},
     "output_type": "execute_result"
    }
   ],
   "source": [
    "df = pd.DataFrame(cursor.fetchall(), columns=[\n",
    "                  desc[0] for desc in cursor.description], dtype=)\n",
    "df"
   ]
  },
  {
   "cell_type": "code",
   "execution_count": null,
   "metadata": {},
   "outputs": [
    {
     "name": "stdout",
     "output_type": "stream",
     "text": [
      "<class 'pandas.core.frame.DataFrame'>\n",
      "RangeIndex: 356 entries, 0 to 355\n",
      "Data columns (total 4 columns):\n",
      " #   Column               Non-Null Count  Dtype  \n",
      "---  ------               --------------  -----  \n",
      " 0   id_canal             356 non-null    object \n",
      " 1   total_likes          333 non-null    float64\n",
      " 2   total_comentarios    331 non-null    float64\n",
      " 3   total_visualizacoes  356 non-null    int64  \n",
      "dtypes: float64(2), int64(1), object(1)\n",
      "memory usage: 11.2+ KB\n"
     ]
    }
   ],
   "source": []
  },
  {
   "cell_type": "code",
   "execution_count": 21,
   "metadata": {},
   "outputs": [
    {
     "name": "stdout",
     "output_type": "stream",
     "text": [
      "<class 'pandas.core.frame.DataFrame'>\n",
      "RangeIndex: 356 entries, 0 to 355\n",
      "Data columns (total 4 columns):\n",
      " #   Column               Non-Null Count  Dtype  \n",
      "---  ------               --------------  -----  \n",
      " 0   id_canal             356 non-null    string \n",
      " 1   total_likes          333 non-null    float64\n",
      " 2   total_comentarios    331 non-null    float64\n",
      " 3   total_visualizacoes  356 non-null    int64  \n",
      "dtypes: float64(2), int64(1), string(1)\n",
      "memory usage: 11.2 KB\n"
     ]
    }
   ],
   "source": [
    "df['id_canal'] = df['id_canal'].astype('string')\n",
    "df[['total_likes', 'total_comentarios', 'total_visualizacoes']] = df[[\n",
    "    'total_likes', 'total_comentarios', 'total_visualizacoes']].astype('int64', errors='ignore')\n",
    "df.info()"
   ]
  },
  {
   "cell_type": "code",
   "execution_count": null,
   "metadata": {},
   "outputs": [],
   "source": []
  }
 ],
 "metadata": {
  "kernelspec": {
   "display_name": "venv",
   "language": "python",
   "name": "python3"
  },
  "language_info": {
   "codemirror_mode": {
    "name": "ipython",
    "version": 3
   },
   "file_extension": ".py",
   "mimetype": "text/x-python",
   "name": "python",
   "nbconvert_exporter": "python",
   "pygments_lexer": "ipython3",
   "version": "3.10.12"
  }
 },
 "nbformat": 4,
 "nbformat_minor": 2
}
